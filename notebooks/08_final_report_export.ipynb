{
 "cells": [
  {
   "cell_type": "code",
   "execution_count": 1,
   "id": "bd9ef4d5",
   "metadata": {},
   "outputs": [],
   "source": [
    "import pandas as pd\n",
    "import matplotlib.pyplot as plt\n",
    "import seaborn as sns\n"
   ]
  },
  {
   "cell_type": "code",
   "execution_count": null,
   "id": "f5fe7ca3",
   "metadata": {},
   "outputs": [],
   "source": [
    "df = pd.read_csv('../data/unfairly_rejected_cases.csv')  \n"
   ]
  },
  {
   "cell_type": "code",
   "execution_count": null,
   "id": "f723cd23",
   "metadata": {},
   "outputs": [],
   "source": [
    "import pandas as pd\n",
    "\n",
    "\n",
    "app = pd.read_csv('../data/application_record.csv')\n",
    "credit = pd.read_csv('../data/credit_record.csv')\n",
    "\n",
    "\n",
    "app = app[['ID', 'CODE_GENDER', 'NAME_INCOME_TYPE', 'NAME_FAMILY_STATUS', 'AMT_INCOME_TOTAL']]\n",
    "\n",
    "\n",
    "behavior = credit.groupby('ID')['STATUS'].apply(lambda s: s.isin(['1', '2', '3', '4', '5']).sum()).reset_index()\n",
    "behavior.columns = ['ID', 'overdue_months']\n",
    "\n",
    "\n",
    "df = app.merge(behavior, on='ID', how='left')\n",
    "df['overdue_months'] = df['overdue_months'].fillna(0)\n"
   ]
  },
  {
   "cell_type": "code",
   "execution_count": null,
   "id": "d0f5b18b",
   "metadata": {},
   "outputs": [],
   "source": [
    "\n",
    "def behavior_based_approval(row):\n",
    "    return int(row['AMT_INCOME_TOTAL'] > 150000 and row['NAME_INCOME_TYPE'] == 'Working' and row['overdue_months'] <= 2)\n",
    "\n",
    "def biased_approval(row):\n",
    "    bias_flag = 0\n",
    "    if row['CODE_GENDER'] == 'F':\n",
    "        bias_flag += 1\n",
    "    if row['NAME_FAMILY_STATUS'] == 'Single / not married':\n",
    "        bias_flag += 1\n",
    "    return int(row['AMT_INCOME_TOTAL'] > 150000 and row['NAME_INCOME_TYPE'] == 'Working' and bias_flag == 0)\n",
    "\n",
    "def fairer_model(row):\n",
    "    return int(row['AMT_INCOME_TOTAL'] > 150000 and row['NAME_INCOME_TYPE'] == 'Working' and row['overdue_months'] <= 2)\n",
    "\n",
    "\n",
    "df['approved_behavior'] = df.apply(behavior_based_approval, axis=1)\n",
    "df['approved_biased'] = df.apply(biased_approval, axis=1)\n",
    "df['approved_fairer'] = df.apply(fairer_model, axis=1)\n"
   ]
  },
  {
   "cell_type": "code",
   "execution_count": 7,
   "id": "fa01420b",
   "metadata": {},
   "outputs": [
    {
     "data": {
      "text/html": [
       "<div>\n",
       "<style scoped>\n",
       "    .dataframe tbody tr th:only-of-type {\n",
       "        vertical-align: middle;\n",
       "    }\n",
       "\n",
       "    .dataframe tbody tr th {\n",
       "        vertical-align: top;\n",
       "    }\n",
       "\n",
       "    .dataframe thead th {\n",
       "        text-align: right;\n",
       "    }\n",
       "</style>\n",
       "<table border=\"1\" class=\"dataframe\">\n",
       "  <thead>\n",
       "    <tr style=\"text-align: right;\">\n",
       "      <th></th>\n",
       "      <th>Model</th>\n",
       "      <th>Approval Rate</th>\n",
       "    </tr>\n",
       "  </thead>\n",
       "  <tbody>\n",
       "    <tr>\n",
       "      <th>0</th>\n",
       "      <td>Biased</td>\n",
       "      <td>0.118169</td>\n",
       "    </tr>\n",
       "    <tr>\n",
       "      <th>1</th>\n",
       "      <td>Behavior-Based</td>\n",
       "      <td>0.298438</td>\n",
       "    </tr>\n",
       "    <tr>\n",
       "      <th>2</th>\n",
       "      <td>Fairer</td>\n",
       "      <td>0.298438</td>\n",
       "    </tr>\n",
       "  </tbody>\n",
       "</table>\n",
       "</div>"
      ],
      "text/plain": [
       "            Model  Approval Rate\n",
       "0          Biased       0.118169\n",
       "1  Behavior-Based       0.298438\n",
       "2          Fairer       0.298438"
      ]
     },
     "execution_count": 7,
     "metadata": {},
     "output_type": "execute_result"
    }
   ],
   "source": [
    "summary = pd.DataFrame({\n",
    "    'Model': ['Biased', 'Behavior-Based', 'Fairer'],\n",
    "    'Approval Rate': [\n",
    "        df['approved_biased'].mean(),\n",
    "        df['approved_behavior'].mean(),\n",
    "        df['approved_fairer'].mean()\n",
    "    ]\n",
    "})\n",
    "\n",
    "summary.to_csv('../data/final_approval_summary.csv', index=False)\n",
    "summary\n"
   ]
  },
  {
   "cell_type": "code",
   "execution_count": 8,
   "id": "e1645dd2",
   "metadata": {},
   "outputs": [
    {
     "data": {
      "image/png": "[encoded data removed]",
      "text/plain": [
       "<Figure size 800x500 with 1 Axes>"
      ]
     },
     "metadata": {},
     "output_type": "display_data"
    }
   ],
   "source": [
    "import seaborn as sns\n",
    "import matplotlib.pyplot as plt\n",
    "\n",
    "plt.figure(figsize=(8, 5))\n",
    "sns.barplot(x='Model', y='Approval Rate', data=summary)\n",
    "plt.title(\"Comparison of Approval Rates by Model\")\n",
    "plt.ylim(0, 0.35)\n",
    "plt.tight_layout()\n",
    "plt.show()\n"
   ]
  },
  {
   "cell_type": "code",
   "execution_count": 9,
   "id": "46cf4a5c",
   "metadata": {},
   "outputs": [
    {
     "name": "stdout",
     "output_type": "stream",
     "text": [
      "✅ Fairer model improved approval rate by: 18.03%\n"
     ]
    }
   ],
   "source": [
    "improvement = summary.loc[summary['Model'] == 'Fairer', 'Approval Rate'].values[0] - summary.loc[summary['Model'] == 'Biased', 'Approval Rate'].values[0]\n",
    "print(f\"✅ Fairer model improved approval rate by: {improvement:.2%}\")\n"
   ]
  },
  {
   "cell_type": "markdown",
   "id": "18df9a66",
   "metadata": {},
   "source": [
    "## ✅ Executive Summary\n",
    "\n",
    "This simulation compared three approval models using real-world credit data:\n",
    "\n",
    "- **Biased Model**: Uses demographic traits (gender, marital status).\n",
    "- **Behavior-Based Model**: Uses financial behavior (income, overdue months).\n",
    "- **Fairer Model**: Focuses only on repayment capability.\n",
    "\n",
    "### Key Findings:\n",
    "- Biased model approved only **11.8%** of applicants.\n",
    "- Behavior-based and fairer models approved nearly **29.8%**.\n",
    "- Fairer logic eliminated demographic bias and aligned approvals with actual financial risk.\n",
    "\n",
    "🎯 **Conclusion**: Algorithmic decisions can unintentionally encode societal bias. Auditing models for fairness helps promote ethical and inclusive AI systems.\n"
   ]
  }
 ],
 "metadata": {
  "kernelspec": {
   "display_name": "Python 3",
   "language": "python",
   "name": "python3"
  },
  "language_info": {
   "codemirror_mode": {
    "name": "ipython",
    "version": 3
   },
   "file_extension": ".py",
   "mimetype": "text/x-python",
   "name": "python",
   "nbconvert_exporter": "python",
   "pygments_lexer": "ipython3",
   "version": "3.10.7"
  }
 },
 "nbformat": 4,
 "nbformat_minor": 5
}
